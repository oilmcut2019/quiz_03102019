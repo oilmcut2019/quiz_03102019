{
 "cells": [
  {
   "cell_type": "markdown",
   "metadata": {},
   "source": [
    "Question_5\n",
    "\n",
    "英文:Enter three sets of values, a set of integers that determine the total length of the string, a set of any string (the length of the string does not exceed the size of the input integer), and a set of spaces instead of characters, printed to the right String.\n",
    "<br>\n",
    "中文: 輸入三組數值，一組整數，該數值決定字串的總長度，一組任一字串(該字串長度不超出輸入整數的大小)，還有一組空格取代字元，印出向右對齊的字串。\n",
    "\n",
    "\n",
    "\n",
    "Input   | Output |\n",
    "--------|--------|\n",
    "8       |00001234|\n",
    "1234    | \n",
    "0       |"
   ]
  },
  {
   "cell_type": "code",
   "execution_count": null,
   "metadata": {},
   "outputs": [],
   "source": []
  }
 ],
 "metadata": {
  "kernelspec": {
   "display_name": "Python 3",
   "language": "python",
   "name": "python3"
  },
  "language_info": {
   "codemirror_mode": {
    "name": "ipython",
    "version": 3
   },
   "file_extension": ".py",
   "mimetype": "text/x-python",
   "name": "python",
   "nbconvert_exporter": "python",
   "pygments_lexer": "ipython3",
   "version": "3.6.7"
  }
 },
 "nbformat": 4,
 "nbformat_minor": 2
}
