{
 "cells": [
  {
   "cell_type": "markdown",
   "metadata": {
    "collapsed": true
   },
   "source": [
    "Question_3\n",
    "\n",
    "英文: Input three groups of characters, the first group of characters is printed in lowercase, the second group of characters is printed in uppercase, and the third group of characters is converted in uppercase and lowercase.\n",
    "<br>\n",
    "中文: 輸入三組字串，第一組字串轉小寫印出，第二組字串轉大寫印出，第三組字串大小寫互轉\n",
    "\n",
    "\n",
    "Input   | Output |\n",
    "--------|--------|\n",
    "ASDfgh  |asdfgh  |\n",
    "zxcVBN  |ZXCVBN  |\n",
    "QWErty  |qweRTY  |\n"
   ]
  },
  {
   "cell_type": "code",
   "execution_count": null,
   "metadata": {},
   "outputs": [],
   "source": []
  }
 ],
 "metadata": {
  "kernelspec": {
   "display_name": "Python 3",
   "language": "python",
   "name": "python3"
  },
  "language_info": {
   "codemirror_mode": {
    "name": "ipython",
    "version": 3
   },
   "file_extension": ".py",
   "mimetype": "text/x-python",
   "name": "python",
   "nbconvert_exporter": "python",
   "pygments_lexer": "ipython3",
   "version": "3.6.7"
  }
 },
 "nbformat": 4,
 "nbformat_minor": 2
}
