{
 "cells": [
  {
   "cell_type": "markdown",
   "metadata": {
    "collapsed": true
   },
   "source": [
    "Question_2\n",
    "\n",
    "英文: Input two groups of strings, the first group of strings is any string, after the second group of strings is input, the position where the string appears first and then in the first group of strings is printed out.\n",
    "<br>\n",
    "中文: 輸入兩組字串，第一組字串為任意字串，第二組字串輸入後，印出該字串在第一組字串中由前而後第一個出現的位置。\n",
    "\n",
    "\n",
    "Input    | Output |\n",
    "---------|--------|\n",
    "012355556|4       |\n",
    "5        |"
   ]
  },
  {
   "cell_type": "code",
   "execution_count": null,
   "metadata": {},
   "outputs": [],
   "source": []
  }
 ],
 "metadata": {
  "kernelspec": {
   "display_name": "Python 3",
   "language": "python",
   "name": "python3"
  },
  "language_info": {
   "codemirror_mode": {
    "name": "ipython",
    "version": 3
   },
   "file_extension": ".py",
   "mimetype": "text/x-python",
   "name": "python",
   "nbconvert_exporter": "python",
   "pygments_lexer": "ipython3",
   "version": "3.6.7"
  }
 },
 "nbformat": 4,
 "nbformat_minor": 2
}
