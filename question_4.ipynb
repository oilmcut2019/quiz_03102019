{
 "cells": [
  {
   "cell_type": "markdown",
   "metadata": {
    "collapsed": true
   },
   "source": [
    "Question_4\n",
    "\n",
    "英文: Enter a set of integers that determine the length of the string. After entering a set of any string (the length of the string does not exceed the size of the input integer), print the right-aligned string.\n",
    "<br>\n",
    "中文: 輸入一組整數，該數值決定字串的長度，在輸入一組任一字串(該字串長度不超出輸入整數的大小)後，印出向右對齊的字串。\n",
    "\n",
    "\n",
    "Input   | Output |\n",
    "--------|--------|\n",
    "8       |    1234|\n",
    "1234    |       \n",
    "\n",
    "\n"
   ]
  },
  {
   "cell_type": "code",
   "execution_count": 1,
   "metadata": {},
   "outputs": [
    {
     "name": "stdout",
     "output_type": "stream",
     "text": [
      "8\n",
      "1234\n",
      "    1234\n"
     ]
    }
   ],
   "source": [
    "y=int(input())\n",
    "x=str(input())\n",
    "z = x.rjust(y)\n",
    "\n",
    "print(z)"
   ]
  },
  {
   "cell_type": "code",
   "execution_count": null,
   "metadata": {},
   "outputs": [],
   "source": []
  }
 ],
 "metadata": {
  "kernelspec": {
   "display_name": "Python 3",
   "language": "python",
   "name": "python3"
  },
  "language_info": {
   "codemirror_mode": {
    "name": "ipython",
    "version": 3
   },
   "file_extension": ".py",
   "mimetype": "text/x-python",
   "name": "python",
   "nbconvert_exporter": "python",
   "pygments_lexer": "ipython3",
   "version": "3.6.7"
  }
 },
 "nbformat": 4,
 "nbformat_minor": 2
}
