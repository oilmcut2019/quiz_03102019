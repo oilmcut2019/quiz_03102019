{
 "cells": [
  {
   "cell_type": "markdown",
   "metadata": {
    "collapsed": true
   },
   "source": [
    "Question_1 \n",
    "\n",
    "英文: Input two groups of strings, the first group is any string, after inputting the second group of strings, output the number of times the string appears in the first group of strings.\n",
    "<br>\n",
    "中文: 輸入兩組字串，第一組字串為任意字串，第二組字串輸入後，印出該字串在第一組字串中出現的次數。\n",
    "\n",
    "\n",
    "Input    |Output  |\n",
    "---------|--------|\n",
    "asdasdasd|3       |\n",
    "asd      |\n",
    "\n"
   ]
  },
  {
   "cell_type": "code",
   "execution_count": null,
   "metadata": {},
   "outputs": [],
   "source": []
  }
 ],
 "metadata": {
  "kernelspec": {
   "display_name": "Python 3",
   "language": "python",
   "name": "python3"
  },
  "language_info": {
   "codemirror_mode": {
    "name": "ipython",
    "version": 3
   },
   "file_extension": ".py",
   "mimetype": "text/x-python",
   "name": "python",
   "nbconvert_exporter": "python",
   "pygments_lexer": "ipython3",
   "version": "3.6.7"
  }
 },
 "nbformat": 4,
 "nbformat_minor": 2
}
